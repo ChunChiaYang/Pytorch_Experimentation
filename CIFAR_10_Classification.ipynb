{
  "nbformat": 4,
  "nbformat_minor": 0,
  "metadata": {
    "colab": {
      "name": "CIFAR-10_Classification.ipynb",
      "version": "0.3.2",
      "provenance": [],
      "collapsed_sections": []
    },
    "kernelspec": {
      "name": "python3",
      "display_name": "Python 3"
    },
    "accelerator": "GPU"
  },
  "cells": [
    {
      "metadata": {
        "id": "Khkoaezf0uLq",
        "colab_type": "code",
        "colab": {
          "base_uri": "https://localhost:8080/",
          "height": 54
        },
        "outputId": "2444491b-04fa-44bc-b354-74c1a05b8219"
      },
      "cell_type": "code",
      "source": [
        "from os import path\n",
        "from wheel.pep425tags import get_abbr_impl, get_impl_ver, get_abi_tag\n",
        "platform = '{}{}-{}'.format(get_abbr_impl(), get_impl_ver(), get_abi_tag())\n",
        "\n",
        "accelerator = 'cu80' if path.exists('/opt/bin/nvidia-smi') else 'cpu'\n",
        "\n",
        "\n",
        "!pip install -q http://download.pytorch.org/whl/{accelerator}/torch-0.4.1-cp36-cp36m-linux_x86_64.whl torchvision\n",
        "\n",
        "import torch as t\n",
        "import torchvision as tv\n",
        "import torchvision.transforms as transforms\n",
        "from torchvision.transforms import ToPILImage\n",
        "from torch.autograd import Variable\n",
        "import torch.nn as nn\n",
        "import torch.nn.functional as F\n",
        "from torch import optim"
      ],
      "execution_count": 1,
      "outputs": [
        {
          "output_type": "stream",
          "text": [
            "tcmalloc: large alloc 1073750016 bytes == 0x56a4c000 @  0x7f27748f41c4 0x46d6a4 0x5fcbcc 0x4c494d 0x54f3c4 0x553aaf 0x54e4c8 0x54f4f6 0x553aaf 0x54efc1 0x54f24d 0x553aaf 0x54efc1 0x54f24d 0x553aaf 0x54efc1 0x54f24d 0x551ee0 0x54e4c8 0x54f4f6 0x553aaf 0x54efc1 0x54f24d 0x551ee0 0x54efc1 0x54f24d 0x551ee0 0x54e4c8 0x54f4f6 0x553aaf 0x54e4c8\r\n"
          ],
          "name": "stdout"
        }
      ]
    },
    {
      "metadata": {
        "id": "_XE2YmVg0x41",
        "colab_type": "code",
        "colab": {
          "base_uri": "https://localhost:8080/",
          "height": 34
        },
        "outputId": "a12eb65e-301d-4764-fabe-a904cb8b9055"
      },
      "cell_type": "code",
      "source": [
        "show=ToPILImage()\n",
        "transform=transforms.Compose([\n",
        "    transforms.ToTensor(),\n",
        "    transforms.Normalize((0.5,0.5,0.5),(0.5,0.5,0.5))\n",
        "])\n",
        "\n",
        "trainset=tv.datasets.CIFAR10(\n",
        "    root='.data/',\n",
        "    train=True,\n",
        "    download=True,\n",
        "    transform=transform\n",
        ")\n",
        "\n",
        "trainloader=t.utils.data.DataLoader(\n",
        "    trainset,\n",
        "    batch_size=4,\n",
        "    shuffle=True,\n",
        "    num_workers=2\n",
        ")"
      ],
      "execution_count": 2,
      "outputs": [
        {
          "output_type": "stream",
          "text": [
            "Downloading https://www.cs.toronto.edu/~kriz/cifar-10-python.tar.gz to .data/cifar-10-python.tar.gz\n"
          ],
          "name": "stdout"
        }
      ]
    },
    {
      "metadata": {
        "id": "kOtKsROR0DiX",
        "colab_type": "code",
        "colab": {
          "base_uri": "https://localhost:8080/",
          "height": 34
        },
        "outputId": "9238a507-48e7-4472-9681-fadfbd5a2680"
      },
      "cell_type": "code",
      "source": [
        "testset=tv.datasets.CIFAR10(\n",
        "    root='.data/',\n",
        "    train=False,\n",
        "    download=True,\n",
        "    transform=transform\n",
        ")\n",
        "\n",
        "testloader=t.utils.data.DataLoader(\n",
        "    testset,\n",
        "    batch_size=4,\n",
        "    shuffle=False,\n",
        "    num_workers=2\n",
        ")\n",
        "\n",
        "classes=('plane','car','bird','cat','deer',\n",
        "        'dog','frog','horse','ship','truck')"
      ],
      "execution_count": 3,
      "outputs": [
        {
          "output_type": "stream",
          "text": [
            "Files already downloaded and verified\n"
          ],
          "name": "stdout"
        }
      ]
    },
    {
      "metadata": {
        "id": "43qq3mAfjCAZ",
        "colab_type": "code",
        "colab": {
          "base_uri": "https://localhost:8080/",
          "height": 34
        },
        "outputId": "a6b8dff3-c06b-403f-9341-2af37f6482fd"
      },
      "cell_type": "code",
      "source": [
        "device = t.device(\"cuda:0\" if t.cuda.is_available() else \"cpu\")\n",
        "\n",
        "print(device)"
      ],
      "execution_count": 4,
      "outputs": [
        {
          "output_type": "stream",
          "text": [
            "cuda:0\n"
          ],
          "name": "stdout"
        }
      ]
    },
    {
      "metadata": {
        "id": "UZNXzbghRky3",
        "colab_type": "code",
        "colab": {
          "base_uri": "https://localhost:8080/",
          "height": 204
        },
        "outputId": "4bc3af4f-0d7c-4f8c-a80e-6a248346a591"
      },
      "cell_type": "code",
      "source": [
        "class Net(nn.Module):\n",
        "    def __init__(self):\n",
        "        super(Net,self).__init__()\n",
        "        self.conv1=nn.Conv2d(3,32,3)\n",
        "        self.norm1=nn.BatchNorm2d(32)\n",
        "        self.pool1=nn.MaxPool2d(kernel_size=3, stride=2)\n",
        "        self.conv2=nn.Conv2d(32,64,3)\n",
        "        self.norm2=nn.BatchNorm2d(64)\n",
        "        self.pool2= nn.MaxPool2d(kernel_size=3, stride=2)\n",
        "        self.fc1=nn.Linear(1600,1000)\n",
        "        self.fc2=nn.Linear(1000,500)\n",
        "        self.fc3=nn.Linear(500,10)\n",
        "        \n",
        "  \n",
        "    def forward(self,x):\n",
        "        x=F.relu(self.conv1(x))\n",
        "        x=self.norm1(x)\n",
        "        x=self.pool1(x)\n",
        "        x=F.relu(self.conv2(x))\n",
        "        x=self.norm2(x)\n",
        "        x=self.pool2(x)\n",
        "        x=x.view(x.size()[0],-1)\n",
        "        x=F.dropout(self.fc1(x),p=0.3)\n",
        "        x=F.relu(x)\n",
        "        x=F.dropout(self.fc2(x),p=0.3)\n",
        "        x=F.relu(x)\n",
        "        x=self.fc3(x)\n",
        "        \n",
        "        return x\n",
        "\n",
        "net=Net()\n",
        "net=net.to(device)\n",
        "print(net)"
      ],
      "execution_count": 5,
      "outputs": [
        {
          "output_type": "stream",
          "text": [
            "Net(\n",
            "  (conv1): Conv2d(3, 32, kernel_size=(3, 3), stride=(1, 1))\n",
            "  (norm1): BatchNorm2d(32, eps=1e-05, momentum=0.1, affine=True, track_running_stats=True)\n",
            "  (pool1): MaxPool2d(kernel_size=3, stride=2, padding=0, dilation=1, ceil_mode=False)\n",
            "  (conv2): Conv2d(32, 64, kernel_size=(3, 3), stride=(1, 1))\n",
            "  (norm2): BatchNorm2d(64, eps=1e-05, momentum=0.1, affine=True, track_running_stats=True)\n",
            "  (pool2): MaxPool2d(kernel_size=3, stride=2, padding=0, dilation=1, ceil_mode=False)\n",
            "  (fc1): Linear(in_features=1600, out_features=1000, bias=True)\n",
            "  (fc2): Linear(in_features=1000, out_features=500, bias=True)\n",
            "  (fc3): Linear(in_features=500, out_features=10, bias=True)\n",
            ")\n"
          ],
          "name": "stdout"
        }
      ]
    },
    {
      "metadata": {
        "id": "qmG--2Ld2xSU",
        "colab_type": "code",
        "colab": {}
      },
      "cell_type": "code",
      "source": [
        "criterion=nn.CrossEntropyLoss()\n",
        "optimizer=optim.Adam(net.parameters(),lr=0.001)"
      ],
      "execution_count": 0,
      "outputs": []
    },
    {
      "metadata": {
        "id": "AKrHlhjo0FI0",
        "colab_type": "code",
        "colab": {
          "base_uri": "https://localhost:8080/",
          "height": 544
        },
        "outputId": "88acdae8-8ca8-47e8-fcc7-442273e145e2"
      },
      "cell_type": "code",
      "source": [
        "for epoch in range(5):\n",
        "    running_loss=0\n",
        "    for i , data in enumerate(trainloader,0):\n",
        "        inputs, labels=data\n",
        "        inputs, labels=Variable(inputs),Variable(labels)\n",
        "        inputs, labels = inputs.to(device), labels.to(device)\n",
        "        optimizer.zero_grad()\n",
        "        outputs=net(inputs)\n",
        "        loss=criterion(outputs, labels)\n",
        "        loss.backward()\n",
        "        \n",
        "        optimizer.step()\n",
        "        running_loss+=loss.data\n",
        "        if i%2000==1999:\n",
        "            print('[{}, {}] loss:{:.3f}'.format(epoch+1,i+1,running_loss/2000))\n",
        "            running_loss=0\n",
        "        \n",
        "print('Finished Training')"
      ],
      "execution_count": 7,
      "outputs": [
        {
          "output_type": "stream",
          "text": [
            "[1, 2000] loss:1.819\n",
            "[1, 4000] loss:1.547\n",
            "[1, 6000] loss:1.436\n",
            "[1, 8000] loss:1.341\n",
            "[1, 10000] loss:1.259\n",
            "[1, 12000] loss:1.205\n",
            "[2, 2000] loss:1.105\n",
            "[2, 4000] loss:1.069\n",
            "[2, 6000] loss:1.045\n",
            "[2, 8000] loss:1.047\n",
            "[2, 10000] loss:1.038\n",
            "[2, 12000] loss:0.999\n",
            "[3, 2000] loss:0.904\n",
            "[3, 4000] loss:0.891\n",
            "[3, 6000] loss:0.891\n",
            "[3, 8000] loss:0.881\n",
            "[3, 10000] loss:0.907\n",
            "[3, 12000] loss:0.879\n",
            "[4, 2000] loss:0.761\n",
            "[4, 4000] loss:0.798\n",
            "[4, 6000] loss:0.796\n",
            "[4, 8000] loss:0.803\n",
            "[4, 10000] loss:0.779\n",
            "[4, 12000] loss:0.786\n",
            "[5, 2000] loss:0.664\n",
            "[5, 4000] loss:0.681\n",
            "[5, 6000] loss:0.709\n",
            "[5, 8000] loss:0.708\n",
            "[5, 10000] loss:0.707\n",
            "[5, 12000] loss:0.715\n",
            "Finished Training\n"
          ],
          "name": "stdout"
        }
      ]
    },
    {
      "metadata": {
        "id": "IWXEM9MxMNrX",
        "colab_type": "code",
        "colab": {
          "base_uri": "https://localhost:8080/",
          "height": 34
        },
        "outputId": "d193c091-54cc-47f3-ace6-a2b624030e3a"
      },
      "cell_type": "code",
      "source": [
        "correct=0\n",
        "total=0\n",
        "\n",
        "for data in testloader:\n",
        "    images, labels=data\n",
        "    images, labels = images.to(device), labels.to(device)\n",
        "    \n",
        "    outputs=net(Variable(images))\n",
        "    _, predicted=t.max(outputs.data, 1)\n",
        "    total+=labels.size(0)\n",
        "    correct+=(predicted==labels).sum()\n",
        "    \n",
        "print('10000張測試集中的準確率為: {} %'.format(100*correct/total))"
      ],
      "execution_count": 8,
      "outputs": [
        {
          "output_type": "stream",
          "text": [
            "10000張測試集中的準確率為: 71 %\n"
          ],
          "name": "stdout"
        }
      ]
    }
  ]
}